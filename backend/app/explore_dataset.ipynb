{
 "cells": [
  {
   "cell_type": "code",
   "execution_count": null,
   "id": "5802ab36",
   "metadata": {
    "vscode": {
     "languageId": "plaintext"
    }
   },
   "outputs": [],
   "source": [
    "# 📦 1. Imports\n",
    "import os\n",
    "import matplotlib.pyplot as plt\n",
    "import seaborn as sns\n",
    "import random\n",
    "import numpy as np\n",
    "from tensorflow.keras.preprocessing.image import load_img, img_to_array\n",
    "\n",
    "# 📁 2. Setup\n",
    "DATASET_DIR = 'path_to_your_dataset'  # 👈 Replace with the actual path\n",
    "IMG_SIZE = 150\n",
    "CATEGORIES = os.listdir(DATASET_DIR)\n",
    "print(\"Categories:\", CATEGORIES)\n",
    "\n",
    "# 📊 3. Show sample image count per class\n",
    "class_counts = {cls: len(os.listdir(os.path.join(DATASET_DIR, cls))) for cls in CATEGORIES}\n",
    "\n",
    "sns.barplot(x=list(class_counts.keys()), y=list(class_counts.values()))\n",
    "plt.xticks(rotation=45)\n",
    "plt.title(\"Image count per class\")\n",
    "plt.show()\n",
    "\n",
    "# 🖼️ 4. Visualize random images from each class\n",
    "def show_random_images(num_per_class=3):\n",
    "    plt.figure(figsize=(15, len(CATEGORIES) * 2))\n",
    "    for i, cls in enumerate(CATEGORIES):\n",
    "        img_dir = os.path.join(DATASET_DIR, cls)\n",
    "        images = os.listdir(img_dir)\n",
    "        selected_imgs = random.sample(images, min(num_per_class, len(images)))\n",
    "\n",
    "        for j, img_name in enumerate(selected_imgs):\n",
    "            img_path = os.path.join(img_dir, img_name)\n",
    "            img = load_img(img_path, target_size=(IMG_SIZE, IMG_SIZE))\n",
    "\n",
    "            plt.subplot(len(CATEGORIES), num_per_class, i * num_per_class + j + 1)\n",
    "            plt.imshow(img)\n",
    "            plt.title(cls)\n",
    "            plt.axis('off')\n",
    "\n",
    "    plt.tight_layout()\n",
    "    plt.show()\n",
    "\n",
    "show_random_images()\n",
    "\n",
    "# 🔍 5. Check image shape and pixel distribution\n",
    "sample_class = random.choice(CATEGORIES)\n",
    "sample_image_path = os.path.join(DATASET_DIR, sample_class, random.choice(os.listdir(os.path.join(DATASET_DIR, sample_class))))\n",
    "print(\"Sample image path:\", sample_image_path)\n",
    "\n",
    "img = load_img(sample_image_path, target_size=(IMG_SIZE, IMG_SIZE))\n",
    "img_array = img_to_array(img) / 255.0\n",
    "print(\"Image shape:\", img_array.shape)\n",
    "\n",
    "# Plot histogram of pixel values\n",
    "plt.hist(img_array.ravel(), bins=50)\n",
    "plt.title(\"Pixel value distribution\")\n",
    "plt.xlabel(\"Pixel Intensity\")\n",
    "plt.ylabel(\"Count\")\n",
    "plt.show()\n"
   ]
  }
 ],
 "metadata": {
  "language_info": {
   "name": "python"
  }
 },
 "nbformat": 4,
 "nbformat_minor": 5
}
